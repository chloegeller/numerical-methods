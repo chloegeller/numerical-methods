{
  "nbformat": 4,
  "nbformat_minor": 0,
  "metadata": {
    "kernelspec": {
      "display_name": "Python 3",
      "language": "python",
      "name": "python3"
    },
    "language_info": {
      "codemirror_mode": {
        "name": "ipython",
        "version": 3
      },
      "file_extension": ".py",
      "mimetype": "text/x-python",
      "name": "python",
      "nbconvert_exporter": "python",
      "pygments_lexer": "ipython3",
      "version": "3.7.4"
    },
    "colab": {
      "name": "Homework1.ipynb",
      "provenance": []
    }
  },
  "cells": [
    {
      "cell_type": "markdown",
      "metadata": {
        "id": "Z6w71cnNmTz-",
        "colab_type": "text"
      },
      "source": [
        "# Homework 1 - Computer Exercises"
      ]
    },
    {
      "cell_type": "markdown",
      "metadata": {
        "id": "KQSWgSbRmTz_",
        "colab_type": "text"
      },
      "source": [
        "## Section 1.3"
      ]
    },
    {
      "cell_type": "markdown",
      "metadata": {
        "id": "24NJI-GMmT0A",
        "colab_type": "text"
      },
      "source": [
        "### Exercise 2"
      ]
    },
    {
      "cell_type": "markdown",
      "metadata": {
        "id": "-wttZdFLmT0A",
        "colab_type": "text"
      },
      "source": [
        "Use your computer to construct a table of three functions $f$, $g$, and $h$ defined as follows. For each integer $n$ in range 1 to 50, let $f(n)=\\frac{1}{n}$. Then $g(n)$ is computed by adding $f(n)$ to itself $n-1$ times. Finally, set $h(n)=nf(n)$. We want to see the effects of roundoff error in these computations. Use the functions real$(n)$ to convert an integer variable to $n$ to its real (floating-point) form. Print the table with all the precision of which your computer is capable (in single-precision mode)."
      ]
    },
    {
      "cell_type": "markdown",
      "metadata": {
        "id": "HvO6z-lemT0B",
        "colab_type": "text"
      },
      "source": [
        "Given:\n",
        "\n",
        "$f(n)=\\frac{1}{n}$\n",
        "\n",
        "$g(n)=\\frac{1}{n-1}$\n",
        "\n",
        "$h(n)=nf(n)$"
      ]
    },
    {
      "cell_type": "code",
      "metadata": {
        "id": "mSsCz1a1mT0B",
        "colab_type": "code",
        "colab": {}
      },
      "source": [
        "import math\n",
        "import cmath\n",
        "import copy\n",
        "import numpy as np\n",
        "import matplotlib.pyplot as plt\n",
        "from tabulate import tabulate as t"
      ],
      "execution_count": 2,
      "outputs": []
    },
    {
      "cell_type": "code",
      "metadata": {
        "id": "v1cVfRN0mT0E",
        "colab_type": "code",
        "colab": {}
      },
      "source": [
        "def real(n):\n",
        "    results = []\n",
        "    for i in range(1, n):\n",
        "        fn = 1 / i\n",
        "        try:\n",
        "            gn = (fn + 1) / (i - 1)\n",
        "        except ZeroDivisionError:\n",
        "            gn = \"infinity\"\n",
        "        hn = i * fn\n",
        "        results.append((fn, gn, hn))\n",
        "    return results"
      ],
      "execution_count": 3,
      "outputs": []
    },
    {
      "cell_type": "code",
      "metadata": {
        "id": "aLwvUHB1mT0H",
        "colab_type": "code",
        "colab": {
          "base_uri": "https://localhost:8080/",
          "height": 884
        },
        "outputId": "98e9cb8c-e722-4f39-8f04-69e6c4c8e956"
      },
      "source": [
        "results = real(50)\n",
        "print(t(results, headers=[\"f(n)\", \"g(n)\", \"h(n)\"]))"
      ],
      "execution_count": 4,
      "outputs": [
        {
          "output_type": "stream",
          "text": [
            "     f(n)  g(n)                    h(n)\n",
            "---------  --------------------  ------\n",
            "1          infinity                   1\n",
            "0.5        1.5                        1\n",
            "0.333333   0.6666666666666666         1\n",
            "0.25       0.4166666666666667         1\n",
            "0.2        0.3                        1\n",
            "0.166667   0.23333333333333334        1\n",
            "0.142857   0.19047619047619047        1\n",
            "0.125      0.16071428571428573        1\n",
            "0.111111   0.1388888888888889         1\n",
            "0.1        0.12222222222222223        1\n",
            "0.0909091  0.10909090909090909        1\n",
            "0.0833333  0.09848484848484848        1\n",
            "0.0769231  0.08974358974358974        1\n",
            "0.0714286  0.08241758241758242        1\n",
            "0.0666667  0.07619047619047618        1\n",
            "0.0625     0.07083333333333333        1\n",
            "0.0588235  0.0661764705882353         1\n",
            "0.0555556  0.06209150326797386        1\n",
            "0.0526316  0.05847953216374269        1\n",
            "0.05       0.05526315789473685        1\n",
            "0.047619   0.05238095238095238        1\n",
            "0.0454545  0.049783549783549784       1\n",
            "0.0434783  0.04743083003952569        1\n",
            "0.0416667  0.04528985507246377        1\n",
            "0.04       0.043333333333333335       1\n",
            "0.0384615  0.041538461538461545       1\n",
            "0.037037   0.039886039886039885       1\n",
            "0.0357143  0.038359788359788365       1\n",
            "0.0344828  0.03694581280788178        1\n",
            "0.0333333  0.03563218390804598        1\n",
            "0.0322581  0.034408602150537634       1\n",
            "0.03125    0.03326612903225806        1\n",
            "0.030303   0.032196969696969696       1\n",
            "0.0294118  0.03119429590017825        1\n",
            "0.0285714  0.03025210084033613        1\n",
            "0.0277778  0.02936507936507936        1\n",
            "0.027027   0.028528528528528527       1\n",
            "0.0263158  0.027738264580369845       1\n",
            "0.025641   0.026990553306342778       1\n",
            "0.025      0.02628205128205128        1\n",
            "0.0243902  0.025609756097560978       1\n",
            "0.0238095  0.02497096399535424        1\n",
            "0.0232558  0.024363233665559248       1\n",
            "0.0227273  0.023784355179704016       1\n",
            "0.0222222  0.02323232323232323        1\n",
            "0.0217391  0.022705314009661838       1\n",
            "0.0212766  0.022201665124884366       1\n",
            "0.0208333  0.02171985815602837        1\n",
            "0.0204082  0.021258503401360544       1\n"
          ],
          "name": "stdout"
        }
      ]
    },
    {
      "cell_type": "markdown",
      "metadata": {
        "id": "pN1Ln9B9mT0L",
        "colab_type": "text"
      },
      "source": [
        "## Section 1.4"
      ]
    },
    {
      "cell_type": "markdown",
      "metadata": {
        "id": "60R4GrqumT0L",
        "colab_type": "text"
      },
      "source": [
        "### Exersice 1"
      ]
    },
    {
      "cell_type": "markdown",
      "metadata": {
        "id": "idbF3j4xmT0M",
        "colab_type": "text"
      },
      "source": [
        "Write a routine for computing the two roots $x_1$ and $x_2$ of the quadratic equation $f(x)=ax^2+bx+c=0$ with real constants $a$, $b$, and $c$ for evaluating $f(x_1)$ and $f(x_2)$. Use formulas that reduce roundoff errors and write efficient code. Test your routine on the following $(a,b,c)$ values: (0, 0, 1); (0, 1, 0); (0, 0, 0); (1, 1, 0); (2, 10, 1); (1, -4, 3.99999); (1, -8.01, 16. 004); ($2\\times{10^{17}}$, $10^{18}$, $10^{17}$); and ($10^{-17}$, $-10^{17}$, $10^{17}$)"
      ]
    },
    {
      "cell_type": "code",
      "metadata": {
        "id": "nQGzfAl0mT0M",
        "colab_type": "code",
        "colab": {}
      },
      "source": [
        "def inputs():\n",
        "    a = float(input(\"Please enter a value for a: \"))\n",
        "    b = float(input(\"Please enter a value for b: \"))\n",
        "    c = float(input(\"Please enter a value for c: \"))\n",
        "    \n",
        "    return a, b, c"
      ],
      "execution_count": 5,
      "outputs": []
    },
    {
      "cell_type": "code",
      "metadata": {
        "id": "DsW7QmBrmT0P",
        "colab_type": "code",
        "colab": {}
      },
      "source": [
        "def quadratic():\n",
        "    \n",
        "    a, b, c = inputs()\n",
        "    print((a, b, c))\n",
        "    \n",
        "    try:\n",
        "        x_1 = (b / 2 * a) * (-1 + math.sqrt(1 - (4 * a * c) / b**2))\n",
        "    except ZeroDivisionError:\n",
        "        x_1 = \"DNE\"\n",
        "        \n",
        "    try:\n",
        "        x_2 = -(b / 2 * a) * (1 + math.sqrt(1 - (4 * a * c) / b**2))\n",
        "    except ZeroDivisionError:\n",
        "        x_2 = \"DNE\"\n",
        "    \n",
        "    return print((x_1, x_2))"
      ],
      "execution_count": 6,
      "outputs": []
    },
    {
      "cell_type": "code",
      "metadata": {
        "id": "-ggcWoawmT0S",
        "colab_type": "code",
        "colab": {
          "base_uri": "https://localhost:8080/",
          "height": 107
        },
        "outputId": "b596147d-1b85-4151-c118-fd80c7c9841f"
      },
      "source": [
        "print(\"If you are entering values with exponents, please use the following format: <value>e<expnonent>\")\n",
        "print(\"For example: 10e-23\\n\")\n",
        "\n",
        "cont = \"y\"\n",
        "\n",
        "while cont == \"y\":\n",
        "    quadratic()\n",
        "    cont = input(\"Would you like to continue: [y]/n?\")"
      ],
      "execution_count": null,
      "outputs": [
        {
          "output_type": "stream",
          "text": [
            "If you are entering values with exponents, please use the following format: <value>e<expnonent>\n",
            "For example: 10e-23\n",
            "\n"
          ],
          "name": "stdout"
        }
      ]
    },
    {
      "cell_type": "code",
      "metadata": {
        "id": "MDixs1pRmT0U",
        "colab_type": "code",
        "colab": {}
      },
      "source": [
        ""
      ],
      "execution_count": null,
      "outputs": []
    }
  ]
}